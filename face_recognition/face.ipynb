{
 "cells": [
  {
   "cell_type": "code",
   "execution_count": 1,
   "id": "37017dc3-6cb3-4fad-82e2-64e69f61887e",
   "metadata": {},
   "outputs": [],
   "source": [
    "import sys\n",
    "sys.path.append('../')\n",
    "import configparser"
   ]
  },
  {
   "cell_type": "code",
   "execution_count": null,
   "id": "d9c3fa99-6b17-4385-bc2a-67acd9241d64",
   "metadata": {},
   "outputs": [],
   "source": [
    "import numpy as np"
   ]
  },
  {
   "cell_type": "code",
   "execution_count": 2,
   "id": "39a50249-335f-405a-93aa-551b69af0038",
   "metadata": {},
   "outputs": [],
   "source": [
    "import gi\n",
    "gi.require_version('Gst', '1.0')\n",
    "from gi.repository import GObject, Gst"
   ]
  },
  {
   "cell_type": "code",
   "execution_count": 2,
   "id": "749de852-df00-4ab3-932d-01d74d0227bf",
   "metadata": {},
   "outputs": [
    {
     "name": "stdout",
     "output_type": "stream",
     "text": [
      "Collecting common\n",
      "  Downloading common-0.1.2.tar.gz (3.5 kB)\n",
      "  Preparing metadata (setup.py) ... \u001b[?25ldone\n",
      "\u001b[?25hBuilding wheels for collected packages: common\n",
      "  Building wheel for common (setup.py) ... \u001b[?25ldone\n",
      "\u001b[?25h  Created wheel for common: filename=common-0.1.2-py3-none-any.whl size=4594 sha256=750a93871d04a2a546c89b7224c91934f6edc6f165e4f885dbfcf02bc8a31ade\n",
      "  Stored in directory: /root/.cache/pip/wheels/3b/d7/c2/915344f542cb7a1d2fdf4869b70125ecc65a70958ce2a12a15\n",
      "Successfully built common\n",
      "Installing collected packages: common\n",
      "Successfully installed common-0.1.2\n",
      "\u001b[33mWARNING: Running pip as the 'root' user can result in broken permissions and conflicting behaviour with the system package manager. It is recommended to use a virtual environment instead: https://pip.pypa.io/warnings/venv\u001b[0m\n"
     ]
    }
   ],
   "source": [
    "!pip install common"
   ]
  },
  {
   "cell_type": "code",
   "execution_count": 1,
   "id": "579e728f-e68b-46d1-8210-caf7e9f31c6d",
   "metadata": {},
   "outputs": [
    {
     "ename": "ModuleNotFoundError",
     "evalue": "No module named 'common.is_aarch_64'",
     "output_type": "error",
     "traceback": [
      "\u001b[0;31m---------------------------------------------------------------------------\u001b[0m",
      "\u001b[0;31mModuleNotFoundError\u001b[0m                       Traceback (most recent call last)",
      "\u001b[0;32m<ipython-input-1-c11d7bae07cf>\u001b[0m in \u001b[0;36m<module>\u001b[0;34m\u001b[0m\n\u001b[0;32m----> 1\u001b[0;31m \u001b[0;32mfrom\u001b[0m \u001b[0mcommon\u001b[0m\u001b[0;34m.\u001b[0m\u001b[0mis_aarch_64\u001b[0m \u001b[0;32mimport\u001b[0m \u001b[0mis_aarch64\u001b[0m\u001b[0;34m\u001b[0m\u001b[0;34m\u001b[0m\u001b[0m\n\u001b[0m\u001b[1;32m      2\u001b[0m \u001b[0;32mfrom\u001b[0m \u001b[0mcommon\u001b[0m\u001b[0;34m.\u001b[0m\u001b[0mbus_call\u001b[0m \u001b[0;32mimport\u001b[0m \u001b[0mbus_call\u001b[0m\u001b[0;34m\u001b[0m\u001b[0;34m\u001b[0m\u001b[0m\n\u001b[1;32m      3\u001b[0m \u001b[0;32mfrom\u001b[0m \u001b[0mcommon\u001b[0m\u001b[0;34m.\u001b[0m\u001b[0mFPS\u001b[0m \u001b[0;32mimport\u001b[0m \u001b[0mGETFPS\u001b[0m\u001b[0;34m\u001b[0m\u001b[0;34m\u001b[0m\u001b[0m\n",
      "\u001b[0;31mModuleNotFoundError\u001b[0m: No module named 'common.is_aarch_64'"
     ]
    }
   ],
   "source": [
    "from common.is_aarch_64 import is_aarch64\n",
    "from common.bus_call import bus_call\n",
    "from common.FPS import GETFPS"
   ]
  },
  {
   "cell_type": "code",
   "execution_count": null,
   "id": "7bc573ff-a0b6-43a3-81fd-adc07e013f51",
   "metadata": {},
   "outputs": [],
   "source": [
    "from facenet_utils import load_dataset, normalize_vectors, predict_using_classifier"
   ]
  },
  {
   "cell_type": "code",
   "execution_count": null,
   "id": "ec350c30-461c-4de6-9993-2da8a47e9d08",
   "metadata": {},
   "outputs": [],
   "source": [
    "import ctypes\n",
    "import pyds"
   ]
  },
  {
   "cell_type": "code",
   "execution_count": null,
   "id": "5228dcf8-2845-40bb-be64-16465551bd44",
   "metadata": {},
   "outputs": [],
   "source": [
    "fps_stream=None\n",
    "face_counter= []\n",
    "PGIE_CLASS_ID_VEHICLE = 0\n",
    "PGIE_CLASS_ID_PERSON = 2\n",
    "\n",
    "SGIE_CLASS_ID_LP = 1\n",
    "SGIE_CLASS_ID_FACE = 0\n",
    "\n",
    "pgie_classes = [\"Vehicle\", \"TwoWheeler\", \"Person\", \"Roadsign\"]\n",
    "\n",
    "PRIMARY_DETECTOR_UID = 1\n",
    "SECONDARY_DETECTOR_UID = 2\n",
    "DATASET_PATH = 'embeddings/faces-embeddings.npz'\n",
    "\n",
    "faces_embeddings, labels = load_dataset(DATASET_PATH)"
   ]
  },
  {
   "cell_type": "code",
   "execution_count": null,
   "id": "7747b85e-1758-4a0d-a165-b3d614ff8309",
   "metadata": {},
   "outputs": [],
   "source": []
  }
 ],
 "metadata": {
  "kernelspec": {
   "display_name": "Python 3",
   "language": "python",
   "name": "python3"
  },
  "language_info": {
   "codemirror_mode": {
    "name": "ipython",
    "version": 3
   },
   "file_extension": ".py",
   "mimetype": "text/x-python",
   "name": "python",
   "nbconvert_exporter": "python",
   "pygments_lexer": "ipython3",
   "version": "3.6.9"
  }
 },
 "nbformat": 4,
 "nbformat_minor": 5
}
